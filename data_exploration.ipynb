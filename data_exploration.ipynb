{
 "cells": [
  {
   "cell_type": "code",
   "execution_count": 1,
   "metadata": {},
   "outputs": [],
   "source": [
    "import pandas as pd\n",
    "import numpy as np"
   ]
  },
  {
   "attachments": {},
   "cell_type": "markdown",
   "metadata": {},
   "source": [
    "Some Functions"
   ]
  },
  {
   "cell_type": "code",
   "execution_count": 2,
   "metadata": {},
   "outputs": [],
   "source": [
    "#Returns the unit vector of the vector.\n",
    "def unit_vector(vector):\n",
    "    return vector / np.linalg.norm(vector)\n",
    "\n",
    "#Returns the angle in radians between vectors 'v1' and 'v2'\n",
    "def angle_between(v1, v2):\n",
    "    v1_u = unit_vector(v1)\n",
    "    v2_u = unit_vector(v2)\n",
    "    return np.arccos(np.clip(np.dot(v1_u, v2_u), -1.0, 1.0))\n",
    "\n",
    "#rotates a vector\n",
    "def affineTransform(vector, angle, position):\n",
    "    rotation_matrix = np.array([[np.cos(angle), -1 * np.sin(angle)],\n",
    "                                [np.sin(angle),      np.cos(angle)]])\n",
    "\n",
    "    return np.matmul(np.linalg.pinv(rotation_matrix), vector - position)\n",
    "\n",
    "#changes points to match the inteface of the movement component\n",
    "def pointsInterface(points, direction, position):\n",
    "    vectors = []\n",
    "\n",
    "    #x and y are mirrored in unreal engine\n",
    "    if direction['y'] < 0:\n",
    "        right_rotation = False\n",
    "    else:\n",
    "        right_rotation = True\n",
    "\n",
    "    theta = angle_between(np.array([0,1]), np.array([direction['y'], direction['x']]))\n",
    "    \n",
    "    if right_rotation:\n",
    "       theta *= -1\n",
    "\n",
    "    for point in points:\n",
    "        x = point['x']\n",
    "        y = point['y']\n",
    "\n",
    "        mirrored_point = np.array([y,x])\n",
    "        transformed_point = affineTransform(mirrored_point, theta, np.array([position['y'],position['x']]))\n",
    "        #take first 10 points\n",
    "        if(len(vectors) <= 19):\n",
    "            vectors.append(transformed_point[0])\n",
    "            vectors.append(transformed_point[1])\n",
    "\n",
    "    return vectors"
   ]
  },
  {
   "cell_type": "code",
   "execution_count": 3,
   "metadata": {},
   "outputs": [],
   "source": [
    "# Import libraries\n",
    "import glob\n",
    "import pandas as pd\n",
    "\n",
    "# Get CSV files list from a folder\n",
    "csv_files = glob.glob(\"training_data/*.csv\")\n",
    "\n",
    "# Read each CSV file into DataFrame\n",
    "# This creates a list of dataframes\n",
    "df_list = (pd.read_csv(file) for file in csv_files)\n",
    "\n",
    "# Concatenate all DataFrames\n",
    "df  = pd.concat(df_list, ignore_index=True)"
   ]
  },
  {
   "cell_type": "code",
   "execution_count": 4,
   "metadata": {},
   "outputs": [
    {
     "name": "stdout",
     "output_type": "stream",
     "text": [
      "Number of rows: 584857\n"
     ]
    }
   ],
   "source": [
    "print('Number of rows:', len(df.index))"
   ]
  },
  {
   "cell_type": "code",
   "execution_count": 5,
   "metadata": {},
   "outputs": [
    {
     "data": {
      "text/plain": [
       "\"[{'x': 7317.637488608387, 'y': -5271.886918345108, 'z': 0.0}, {'x': 8370.014891390827, 'y': -6324.264321127548, 'z': 0.0}, {'x': 9422.392294173267, 'y': -7376.641723909988, 'z': 0.0}, {'x': 10474.769696955707, 'y': -8429.019126692428, 'z': 0.0}, {'x': 11527.147099738148, 'y': -8429.019126692428, 'z': 0.0}, {'x': 12579.524502520588, 'y': -8429.019126692428, 'z': 0.0}, {'x': 13631.901905303028, 'y': -8429.019126692428, 'z': 0.0}, {'x': 14684.279308085468, 'y': -8429.019126692428, 'z': 0.0}]\""
      ]
     },
     "execution_count": 5,
     "metadata": {},
     "output_type": "execute_result"
    }
   ],
   "source": [
    "df['points'].iloc[583]"
   ]
  },
  {
   "attachments": {},
   "cell_type": "markdown",
   "metadata": {},
   "source": [
    "<h1>Transform Data</h1>"
   ]
  },
  {
   "cell_type": "code",
   "execution_count": 6,
   "metadata": {},
   "outputs": [],
   "source": [
    "import ast\n",
    "from sklearn import preprocessing"
   ]
  },
  {
   "cell_type": "code",
   "execution_count": 7,
   "metadata": {},
   "outputs": [],
   "source": [
    "def transformDf(df):\n",
    "    new_df = pd.DataFrame()\n",
    "    #string to list/dictionary\n",
    "    new_df['points'] = df['points'].apply(lambda val: ast.literal_eval(val))\n",
    "    new_df['position'] = df['position'].apply(lambda val: ast.literal_eval(val))\n",
    "    new_df['direction'] = df['direction'].apply(lambda val: ast.literal_eval(val))\n",
    "    \n",
    "    #apply affine transform\n",
    "    new_df['points'] = new_df.apply(lambda row: pointsInterface(row['points'], row['direction'], row['position']), axis=1)\n",
    "\n",
    "    #nicht so schön\n",
    "    new_df[['x1', 'y1', 'x2', 'y2', 'x3', 'y3', 'x4', 'y4', 'x5', 'y5', 'x6', 'y6', 'x7', 'y7', 'x8', 'y8', 'x9', 'y9', 'x10', 'y10']] = pd.DataFrame(new_df.points.tolist(), index= new_df.index)\n",
    "\n",
    "    #fill NaN with 0\n",
    "    new_df = new_df.fillna(0)\n",
    "\n",
    "    #copy throttle, steering, speed\n",
    "    new_df['speed'] = df['speed']\n",
    "    new_df['throttle'] = df['throttle']\n",
    "    new_df['steering'] = df['steering']\n",
    "    return new_df.drop(['position', 'direction', 'points'], axis=1)\n",
    "\n",
    "new_df = transformDf(df)"
   ]
  },
  {
   "cell_type": "code",
   "execution_count": 8,
   "metadata": {},
   "outputs": [
    {
     "data": {
      "text/html": [
       "<div>\n",
       "<style scoped>\n",
       "    .dataframe tbody tr th:only-of-type {\n",
       "        vertical-align: middle;\n",
       "    }\n",
       "\n",
       "    .dataframe tbody tr th {\n",
       "        vertical-align: top;\n",
       "    }\n",
       "\n",
       "    .dataframe thead th {\n",
       "        text-align: right;\n",
       "    }\n",
       "</style>\n",
       "<table border=\"1\" class=\"dataframe\">\n",
       "  <thead>\n",
       "    <tr style=\"text-align: right;\">\n",
       "      <th></th>\n",
       "      <th>x1</th>\n",
       "      <th>y1</th>\n",
       "      <th>x2</th>\n",
       "      <th>y2</th>\n",
       "      <th>x3</th>\n",
       "      <th>y3</th>\n",
       "      <th>x4</th>\n",
       "      <th>y4</th>\n",
       "      <th>x5</th>\n",
       "      <th>y5</th>\n",
       "      <th>...</th>\n",
       "      <th>y7</th>\n",
       "      <th>x8</th>\n",
       "      <th>y8</th>\n",
       "      <th>x9</th>\n",
       "      <th>y9</th>\n",
       "      <th>x10</th>\n",
       "      <th>y10</th>\n",
       "      <th>speed</th>\n",
       "      <th>throttle</th>\n",
       "      <th>steering</th>\n",
       "    </tr>\n",
       "  </thead>\n",
       "  <tbody>\n",
       "    <tr>\n",
       "      <th>0</th>\n",
       "      <td>-49.136295</td>\n",
       "      <td>9.944135</td>\n",
       "      <td>-49.173788</td>\n",
       "      <td>397.243092</td>\n",
       "      <td>-49.211282</td>\n",
       "      <td>784.542050</td>\n",
       "      <td>338.050183</td>\n",
       "      <td>1171.878500</td>\n",
       "      <td>725.311647</td>\n",
       "      <td>1559.214951</td>\n",
       "      <td>...</td>\n",
       "      <td>2333.887853</td>\n",
       "      <td>1887.096039</td>\n",
       "      <td>2721.224304</td>\n",
       "      <td>2274.357504</td>\n",
       "      <td>3108.560754</td>\n",
       "      <td>2661.656461</td>\n",
       "      <td>3108.598248</td>\n",
       "      <td>0.000000</td>\n",
       "      <td>1.0</td>\n",
       "      <td>0.0</td>\n",
       "    </tr>\n",
       "    <tr>\n",
       "      <th>1</th>\n",
       "      <td>-49.136219</td>\n",
       "      <td>9.943898</td>\n",
       "      <td>-49.173716</td>\n",
       "      <td>397.242855</td>\n",
       "      <td>-49.211214</td>\n",
       "      <td>784.541813</td>\n",
       "      <td>338.050246</td>\n",
       "      <td>1171.878268</td>\n",
       "      <td>725.311706</td>\n",
       "      <td>1559.214723</td>\n",
       "      <td>...</td>\n",
       "      <td>2333.887633</td>\n",
       "      <td>1887.096086</td>\n",
       "      <td>2721.224088</td>\n",
       "      <td>2274.357546</td>\n",
       "      <td>3108.560543</td>\n",
       "      <td>2661.656503</td>\n",
       "      <td>3108.598040</td>\n",
       "      <td>0.000000</td>\n",
       "      <td>1.0</td>\n",
       "      <td>0.0</td>\n",
       "    </tr>\n",
       "    <tr>\n",
       "      <th>2</th>\n",
       "      <td>-49.136071</td>\n",
       "      <td>9.943613</td>\n",
       "      <td>-49.173575</td>\n",
       "      <td>397.242570</td>\n",
       "      <td>-49.211080</td>\n",
       "      <td>784.541528</td>\n",
       "      <td>338.050373</td>\n",
       "      <td>1171.877990</td>\n",
       "      <td>725.311826</td>\n",
       "      <td>1559.214452</td>\n",
       "      <td>...</td>\n",
       "      <td>2333.887376</td>\n",
       "      <td>1887.096185</td>\n",
       "      <td>2721.223838</td>\n",
       "      <td>2274.357638</td>\n",
       "      <td>3108.560300</td>\n",
       "      <td>2661.656596</td>\n",
       "      <td>3108.597804</td>\n",
       "      <td>0.002367</td>\n",
       "      <td>1.0</td>\n",
       "      <td>0.0</td>\n",
       "    </tr>\n",
       "    <tr>\n",
       "      <th>3</th>\n",
       "      <td>-49.135856</td>\n",
       "      <td>9.943370</td>\n",
       "      <td>-49.173369</td>\n",
       "      <td>397.242327</td>\n",
       "      <td>-49.210883</td>\n",
       "      <td>784.541285</td>\n",
       "      <td>338.050562</td>\n",
       "      <td>1171.877755</td>\n",
       "      <td>725.312006</td>\n",
       "      <td>1559.214226</td>\n",
       "      <td>...</td>\n",
       "      <td>2333.887167</td>\n",
       "      <td>1887.096339</td>\n",
       "      <td>2721.223638</td>\n",
       "      <td>2274.357783</td>\n",
       "      <td>3108.560109</td>\n",
       "      <td>2661.656741</td>\n",
       "      <td>3108.597622</td>\n",
       "      <td>0.004025</td>\n",
       "      <td>1.0</td>\n",
       "      <td>0.0</td>\n",
       "    </tr>\n",
       "    <tr>\n",
       "      <th>4</th>\n",
       "      <td>-49.135581</td>\n",
       "      <td>9.943207</td>\n",
       "      <td>-49.173104</td>\n",
       "      <td>397.242164</td>\n",
       "      <td>-49.210627</td>\n",
       "      <td>784.541122</td>\n",
       "      <td>338.050808</td>\n",
       "      <td>1171.877602</td>\n",
       "      <td>725.312243</td>\n",
       "      <td>1559.214082</td>\n",
       "      <td>...</td>\n",
       "      <td>2333.887043</td>\n",
       "      <td>1887.096547</td>\n",
       "      <td>2721.223523</td>\n",
       "      <td>2274.357982</td>\n",
       "      <td>3108.560003</td>\n",
       "      <td>2661.656939</td>\n",
       "      <td>3108.597526</td>\n",
       "      <td>0.005277</td>\n",
       "      <td>1.0</td>\n",
       "      <td>0.0</td>\n",
       "    </tr>\n",
       "  </tbody>\n",
       "</table>\n",
       "<p>5 rows × 23 columns</p>\n",
       "</div>"
      ],
      "text/plain": [
       "          x1        y1         x2          y2         x3          y3  \\\n",
       "0 -49.136295  9.944135 -49.173788  397.243092 -49.211282  784.542050   \n",
       "1 -49.136219  9.943898 -49.173716  397.242855 -49.211214  784.541813   \n",
       "2 -49.136071  9.943613 -49.173575  397.242570 -49.211080  784.541528   \n",
       "3 -49.135856  9.943370 -49.173369  397.242327 -49.210883  784.541285   \n",
       "4 -49.135581  9.943207 -49.173104  397.242164 -49.210627  784.541122   \n",
       "\n",
       "           x4           y4          x5           y5  ...           y7  \\\n",
       "0  338.050183  1171.878500  725.311647  1559.214951  ...  2333.887853   \n",
       "1  338.050246  1171.878268  725.311706  1559.214723  ...  2333.887633   \n",
       "2  338.050373  1171.877990  725.311826  1559.214452  ...  2333.887376   \n",
       "3  338.050562  1171.877755  725.312006  1559.214226  ...  2333.887167   \n",
       "4  338.050808  1171.877602  725.312243  1559.214082  ...  2333.887043   \n",
       "\n",
       "            x8           y8           x9           y9          x10  \\\n",
       "0  1887.096039  2721.224304  2274.357504  3108.560754  2661.656461   \n",
       "1  1887.096086  2721.224088  2274.357546  3108.560543  2661.656503   \n",
       "2  1887.096185  2721.223838  2274.357638  3108.560300  2661.656596   \n",
       "3  1887.096339  2721.223638  2274.357783  3108.560109  2661.656741   \n",
       "4  1887.096547  2721.223523  2274.357982  3108.560003  2661.656939   \n",
       "\n",
       "           y10     speed  throttle  steering  \n",
       "0  3108.598248  0.000000       1.0       0.0  \n",
       "1  3108.598040  0.000000       1.0       0.0  \n",
       "2  3108.597804  0.002367       1.0       0.0  \n",
       "3  3108.597622  0.004025       1.0       0.0  \n",
       "4  3108.597526  0.005277       1.0       0.0  \n",
       "\n",
       "[5 rows x 23 columns]"
      ]
     },
     "execution_count": 8,
     "metadata": {},
     "output_type": "execute_result"
    }
   ],
   "source": [
    "new_df.head()"
   ]
  },
  {
   "cell_type": "code",
   "execution_count": null,
   "metadata": {},
   "outputs": [],
   "source": [
    "onepoint = new_df[(new_df['x1'].isnull() == False)]\n",
    "onepoint = onepoint.sample(frac=1).reset_index(drop=True)\n",
    "print(onepoint.head())\n",
    "len(onepoint.index)"
   ]
  },
  {
   "cell_type": "code",
   "execution_count": null,
   "metadata": {},
   "outputs": [],
   "source": [
    "twopoints = new_df[new_df['x2'].isnull() == False]\n",
    "twopoints = twopoints.sample(frac=1).reset_index(drop=True)\n",
    "print(twopoints.head())\n",
    "len(twopoints.index)"
   ]
  },
  {
   "cell_type": "code",
   "execution_count": null,
   "metadata": {},
   "outputs": [],
   "source": [
    "threepoints = new_df[new_df['x3'].isnull() == False]\n",
    "threepoints = threepoints.sample(frac=1).reset_index(drop=True)\n",
    "print(threepoints.head())\n",
    "len(threepoints.index)"
   ]
  },
  {
   "cell_type": "code",
   "execution_count": null,
   "metadata": {},
   "outputs": [],
   "source": [
    "fourpoints = new_df[new_df['x4'].isnull() == False]\n",
    "fourpoints = fourpoints.sample(frac=1).reset_index(drop=True)\n",
    "print(fourpoints.head())\n",
    "len(fourpoints.index)"
   ]
  },
  {
   "cell_type": "code",
   "execution_count": null,
   "metadata": {},
   "outputs": [],
   "source": [
    "fivepoints = new_df[new_df['x10'].isnull() == False]\n",
    "fivepoints = fivepoints.sample(frac=1).reset_index(drop=True)\n",
    "print(fivepoints.head())\n",
    "len(fivepoints.index)"
   ]
  },
  {
   "cell_type": "code",
   "execution_count": null,
   "metadata": {},
   "outputs": [],
   "source": [
    "new_df.head()"
   ]
  },
  {
   "cell_type": "code",
   "execution_count": 9,
   "metadata": {},
   "outputs": [],
   "source": [
    "#divide data into train/evaluation/test #70%, 15%, 15%\n",
    "train, validate, test = \\\n",
    "              np.split(new_df.sample(frac=1), \n",
    "                       [int(.7*len(new_df)), int(.85*len(new_df))])\n"
   ]
  },
  {
   "cell_type": "code",
   "execution_count": 10,
   "metadata": {},
   "outputs": [],
   "source": [
    "train\n",
    "train.to_csv('train.csv', index=False)"
   ]
  },
  {
   "cell_type": "code",
   "execution_count": 11,
   "metadata": {},
   "outputs": [],
   "source": [
    "validate\n",
    "validate.to_csv('validation.csv', index=False)"
   ]
  },
  {
   "cell_type": "code",
   "execution_count": 12,
   "metadata": {},
   "outputs": [],
   "source": [
    "test\n",
    "test.to_csv('test.csv', index=False)"
   ]
  },
  {
   "cell_type": "code",
   "execution_count": null,
   "metadata": {},
   "outputs": [],
   "source": []
  }
 ],
 "metadata": {
  "kernelspec": {
   "display_name": "Semesterprojekt",
   "language": "python",
   "name": "python3"
  },
  "language_info": {
   "codemirror_mode": {
    "name": "ipython",
    "version": 3
   },
   "file_extension": ".py",
   "mimetype": "text/x-python",
   "name": "python",
   "nbconvert_exporter": "python",
   "pygments_lexer": "ipython3",
   "version": "3.10.9"
  },
  "orig_nbformat": 4,
  "vscode": {
   "interpreter": {
    "hash": "e437fa48b7263affc2afa5c5e1d31c07d210e335b09fd0b35e2a5dd457c60d65"
   }
  }
 },
 "nbformat": 4,
 "nbformat_minor": 2
}
